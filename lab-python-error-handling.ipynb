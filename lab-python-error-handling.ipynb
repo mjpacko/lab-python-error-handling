{
 "cells": [
  {
   "cell_type": "markdown",
   "id": "25d7736c-ba17-4aff-b6bb-66eba20fbf4e",
   "metadata": {},
   "source": [
    "# Lab | Error Handling"
   ]
  },
  {
   "cell_type": "markdown",
   "id": "bc99b386-7508-47a0-bcdb-d969deaf6c8b",
   "metadata": {},
   "source": [
    "## Exercise: Error Handling for Managing Customer Orders\n",
    "\n",
    "The implementation of your code for managing customer orders assumes that the user will always enter a valid input. \n",
    "\n",
    "For example, we could modify the `initialize_inventory` function to include error handling.\n",
    "   - If the user enters an invalid quantity (e.g., a negative value or a non-numeric value), display an error message and ask them to re-enter the quantity for that product.\n",
    "   - Use a try-except block to handle the error and continue prompting the user until a valid quantity is entered.\n",
    "\n",
    "```python\n",
    "# Step 1: Define the function for initializing the inventory with error handling\n",
    "def initialize_inventory(products):\n",
    "    inventory = {}\n",
    "    for product in products:\n",
    "        valid_quantity = False\n",
    "        while not valid_quantity:\n",
    "            try:\n",
    "                quantity = int(input(f\"Enter the quantity of {product}s available: \"))\n",
    "                if quantity < 0:\n",
    "                    raise ValueError(\"Invalid quantity! Please enter a non-negative value.\")\n",
    "                valid_quantity = True\n",
    "            except ValueError as error:\n",
    "                print(f\"Error: {error}\")\n",
    "        inventory[product] = quantity\n",
    "    return inventory\n",
    "\n",
    "# Or, in another way:\n",
    "\n",
    "def initialize_inventory(products):\n",
    "    inventory = {}\n",
    "    for product in products:\n",
    "        valid_input = False\n",
    "        while not valid_input:\n",
    "            try:\n",
    "                quantity = int(input(f\"Enter the quantity of {product}s available: \"))\n",
    "                if quantity >= 0:\n",
    "                    inventory[product] = quantity\n",
    "                    valid_input = True\n",
    "                else:\n",
    "                    print(\"Quantity cannot be negative. Please enter a valid quantity.\")\n",
    "            except ValueError:\n",
    "                print(\"Invalid input. Please enter a valid quantity.\")\n",
    "    return inventory\n",
    "```\n",
    "\n",
    "Let's enhance your code by implementing error handling to handle invalid inputs.\n",
    "\n",
    "Follow the steps below to complete the exercise:\n",
    "\n",
    "2. Modify the `calculate_total_price` function to include error handling.\n",
    "   - If the user enters an invalid price (e.g., a negative value or a non-numeric value), display an error message and ask them to re-enter the price for that product.\n",
    "   - Use a try-except block to handle the error and continue prompting the user until a valid price is entered.\n",
    "\n",
    "3. Modify the `get_customer_orders` function to include error handling.\n",
    "   - If the user enters an invalid number of orders (e.g., a negative value or a non-numeric value), display an error message and ask them to re-enter the number of orders.\n",
    "   - If the user enters an invalid product name (e.g., a product name that is not in the inventory), or that doesn't have stock available, display an error message and ask them to re-enter the product name. *Hint: you will need to pass inventory as a parameter*\n",
    "   - Use a try-except block to handle the error and continue prompting the user until a valid product name is entered.\n",
    "\n",
    "4. Test your code by running the program and deliberately entering invalid quantities and product names. Make sure the error handling mechanism works as expected.\n"
   ]
  },
  {
   "cell_type": "code",
   "execution_count": 84,
   "id": "b38af4e5-a36d-4779-aa27-748476890783",
   "metadata": {},
   "outputs": [],
   "source": [
    "products = [\"t-shirt\", \"mug\", \"hat\", \"book\", \"keychain\"]\n",
    "price_list = []\n",
    "customer_orders = {}\n",
    "updated_inventory = {}"
   ]
  },
  {
   "cell_type": "code",
   "execution_count": 86,
   "id": "2d84d619-f075-4bc8-a766-3145ed9a01cf",
   "metadata": {},
   "outputs": [],
   "source": [
    "def initialize_inventory(products):\n",
    "    inventory = {product: int(input(f\"Enter the quantity of {product}s available: \")) for product in products}\n",
    "    get_customer_orders(inventory, products, price_list, inventory, updated_inventory)\n"
   ]
  },
  {
   "cell_type": "code",
   "execution_count": 88,
   "id": "cd9b7fd7-10f2-4418-9235-e2063f1eeebb",
   "metadata": {},
   "outputs": [],
   "source": [
    "\"\"\"\n",
    "Modify the get_customer_orders function to include error handling.\n",
    "If the user enters an invalid number of orders (e.g., a negative value or a non-numeric value), \n",
    "display an error message and ask them to re-enter the number of orders.\n",
    "If the user enters an invalid product name (e.g., a product name that is not in the inventory), \n",
    "or that doesn't have stock available, display an error message and ask them to re-enter the product name. \n",
    "Hint: you will need to pass inventory as a parameter\n",
    "Use a try-except block to handle the error and continue prompting the user until a valid product name is entered.\n",
    "\"\"\"\n",
    "            \n",
    "def get_customer_orders(products, price_list, inventory, updated_inventory):\n",
    "    valid_item = False\n",
    "    while not valid_item:\n",
    "        item_try = input(f\"Which item would you like to order? Your options are {products} or NONE.\")\n",
    "        try:\n",
    "            if item_try == \"NONE\":\n",
    "                break\n",
    "            if item_try in customer_orders:\n",
    "                print(\"You've already ordered that.\")\n",
    "                print(f\"Items in your shopping cart: {customer_orders}\")\n",
    "            elif item_try not in products:\n",
    "                print(\"Error: that's not a valid item. Try again.\")\n",
    "            else:\n",
    "                customer_orders[item_try] = 1\n",
    "                valid_item = True\n",
    "                calculate_price(price_list)\n",
    "                print(f\"Items in your shopping cart: {customer_orders}\")\n",
    "        except TypeError as error:\n",
    "            print(f\"Error: that's not a valid item. Try again.\")\n",
    "    print(f\"Order completed. Items in your shopping cart: {update_inventory(customer_orders, inventory)}\")\n",
    "    calculate_order_statistics(customer_orders, products)"
   ]
  },
  {
   "cell_type": "code",
   "execution_count": 90,
   "id": "c1cdc216-950a-48e8-bc21-a642c0a3215e",
   "metadata": {},
   "outputs": [],
   "source": [
    "def update_inventory(customer_orders, inventory):\n",
    "    # Update the inventory based on customer orders\n",
    "    updated_inventory = {item: max(0, inventory.get(item, 0) - (1 if item in customer_orders else 0)) for item in inventory}\n",
    "    updated_inventory = {item: count for item, count in updated_inventory.items() if count > 0}\n",
    "    return updated_inventory"
   ]
  },
  {
   "cell_type": "code",
   "execution_count": 92,
   "id": "1f72648c-90a5-4438-9448-7f4d9781b021",
   "metadata": {},
   "outputs": [],
   "source": [
    "def calculate_order_statistics(customer_orders, products):\n",
    "    #return the order statistics (total products ordered, and percentage of unique products ordered)\n",
    "    global order_statistics\n",
    "    order_statistics = (len(customer_orders), len(customer_orders)/sum(inventory.values())*100)\n",
    "    print_order_statistics(order_statistics)\n",
    "\n",
    "def print_order_statistics(order_statistics):\n",
    "    print(\"Order Statistics:\")\n",
    "    print(f\"Total Products Ordered: {len(customer_orders)}\")\n",
    "    print(f\"Percentage of Products Ordered: {order_statistics}\")\n",
    "    print_updated_inventory(inventory)\n",
    "\n",
    "def print_updated_inventory(inventory):\n",
    "    # Inside the function implement the code for printing the updated inventory\n",
    "    print(f\"The updated inventory is: {updated_inventory}\")\n",
    "    print(f\"The total price of your oder is: {total_price}€\")\n",
    "    "
   ]
  },
  {
   "cell_type": "code",
   "execution_count": 94,
   "id": "93dccc1a-3487-4f43-bbb7-105ad1c0d40f",
   "metadata": {},
   "outputs": [],
   "source": [
    "#Modify the calculate_total_price function to include error handling.\n",
    "#If the user enters an invalid price (e.g., a negative value or a non-numeric value), display an error message and ask them to re-enter the price for that product.\n",
    "#Use a try-except block to handle the error and continue prompting the user until a valid price is entered.\n",
    "\n",
    "def calculate_price (price_list):\n",
    "    total_price = 0\n",
    "    valid_price = False\n",
    "    while not valid_price:\n",
    "        try: \n",
    "            price_try = float(input(f\"Enter price: \"))\n",
    "            price_list.append(price_try)\n",
    "            valid_price = True\n",
    "        except ValueError as error:\n",
    "            print(f\"Error: that's not a valid price. Try again.\")\n",
    "    \n",
    "    total_price = sum(price_list)\n",
    "    return f\"The total price of your order is: {total_price}€\""
   ]
  }
 ],
 "metadata": {
  "kernelspec": {
   "display_name": "Python 3 (ipykernel)",
   "language": "python",
   "name": "python3"
  },
  "language_info": {
   "codemirror_mode": {
    "name": "ipython",
    "version": 3
   },
   "file_extension": ".py",
   "mimetype": "text/x-python",
   "name": "python",
   "nbconvert_exporter": "python",
   "pygments_lexer": "ipython3",
   "version": "3.12.4"
  }
 },
 "nbformat": 4,
 "nbformat_minor": 5
}
